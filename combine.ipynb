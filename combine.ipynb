{
 "cells": [
  {
   "cell_type": "code",
   "execution_count": 71,
   "metadata": {},
   "outputs": [],
   "source": [
    "import pandas as pd\n",
    "import os"
   ]
  },
  {
   "cell_type": "code",
   "execution_count": 78,
   "metadata": {},
   "outputs": [],
   "source": [
    "writer = pd.ExcelWriter('./rosstat.xlsx')\n",
    "for filename in os.listdir('./xlsx'):\n",
    "    xlsx = pd.read_excel('./xlsx/' + filename, header=1, index_col=0)\n",
    "    # drop null\n",
    "    xlsx = xlsx.dropna(how='all')\n",
    "    # propagate missing values row-wise\n",
    "    xlsx = xlsx.ffill(axis=1).bfill(axis=1)\n",
    "    # drop duplicates\n",
    "    xlsx = xlsx[~xlsx.index.duplicated(keep='first')]\n",
    "    \n",
    "    xlsx.to_excel(writer, sheet_name=filename.split('.')[0], encoding='utf8')"
   ]
  },
  {
   "cell_type": "code",
   "execution_count": 79,
   "metadata": {},
   "outputs": [],
   "source": [
    "writer.save()"
   ]
  },
  {
   "cell_type": "code",
   "execution_count": null,
   "metadata": {},
   "outputs": [],
   "source": []
  }
 ],
 "metadata": {
  "kernelspec": {
   "display_name": "Python 3.6.5 64-bit ('base': conda)",
   "language": "python",
   "name": "python36564bitbaseconda4db4657131b6427e8cce7e3834bee618"
  },
  "language_info": {
   "codemirror_mode": {
    "name": "ipython",
    "version": 3
   },
   "file_extension": ".py",
   "mimetype": "text/x-python",
   "name": "python",
   "nbconvert_exporter": "python",
   "pygments_lexer": "ipython3",
   "version": "3.6.5"
  }
 },
 "nbformat": 4,
 "nbformat_minor": 2
}
