{
 "cells": [
  {
   "cell_type": "code",
   "execution_count": null,
   "metadata": {},
   "outputs": [],
   "source": [
    "from selenium import webdriver\n",
    "from selenium.webdriver.common.by import By\n",
    "from selenium.webdriver.common.keys import Keys\n",
    "from selenium.webdriver.common.action_chains import ActionChains\n",
    "import os"
   ]
  },
  {
   "cell_type": "code",
   "execution_count": null,
   "metadata": {},
   "outputs": [],
   "source": [
    "driver = webdriver.Chrome(\"chromedriver.exe\")\n",
    "driver.get('https://rosstat.gov.ru/dbscripts/munst/')"
   ]
  },
  {
   "cell_type": "markdown",
   "metadata": {},
   "source": [
    "<h3> Navigate to data </h3>"
   ]
  },
  {
   "cell_type": "code",
   "execution_count": null,
   "metadata": {},
   "outputs": [],
   "source": [
    "def navigate():\n",
    "    driver.find_element_by_link_text('Территория').click(); time.sleep(0.2)\n",
    "    # navigate\n",
    "    driver.find_element_by_xpath('//*[contains(text(),\"Общая площадь земель муниципального образования\")]//..//td//span').click()\n",
    "    # proceed\n",
    "    time.sleep(0.2)\n",
    "    driver.find_element_by_xpath('//input[@value=\"Далее >>\"]').click()\n",
    "    \n",
    "    return"
   ]
  },
  {
   "cell_type": "markdown",
   "metadata": {},
   "source": [
    "<h3> Check boxes </h3>"
   ]
  },
  {
   "cell_type": "code",
   "execution_count": null,
   "metadata": {},
   "outputs": [],
   "source": [
    "def boxes_check():\n",
    "\n",
    "    # year\n",
    "    driver.find_element_by_xpath('//select[@name=\"god\"]//..//input').click()\n",
    "    # region 1\n",
    "    driver.find_element_by_xpath('//select[@name=\"oktmo\"]//..//input').click()\n",
    "    # region 2\n",
    "    driver.find_element_by_xpath('//select[@name=\"munr\"]//..//input').click()\n",
    "    \n",
    "    time.sleep(0.5)\n",
    "    \n",
    "    driver.find_element_by_xpath('//input[@value=\"Показать таблицу\"]').click()\n",
    "    \n",
    "    return"
   ]
  },
  {
   "cell_type": "markdown",
   "metadata": {},
   "source": [
    "<h3> Download in excel </h3>"
   ]
  },
  {
   "cell_type": "code",
   "execution_count": null,
   "metadata": {},
   "outputs": [],
   "source": [
    "def download():\n",
    "    # switch to new window\n",
    "    driver.switch_to.window(driver.window_handles[-1])\n",
    "    # choose excel\n",
    "    driver.find_element_by_xpath('//select[@name=\"Format\"]/option[contains(text(), \"Excel\")]').click(); time.sleep(0.2)\n",
    "    # download\n",
    "    driver.find_element_by_xpath('//input[@value=\"Выполнить\"]').click()\n",
    "    # close window, reset to default\n",
    "    driver.close(); driver.switch_to.window(driver.window_handles[0])\n",
    "    \n",
    "    return"
   ]
  },
  {
   "cell_type": "markdown",
   "metadata": {},
   "source": [
    "<h3> Main loop </h3>"
   ]
  },
  {
   "cell_type": "code",
   "execution_count": null,
   "metadata": {},
   "outputs": [],
   "source": [
    "i = 0\n",
    "while True:\n",
    "    # get website\n",
    "    driver.get('https://rosstat.gov.ru/dbscripts/munst/')\n",
    "    #\n",
    "    regions = []\n",
    "    regions.extend(driver.find_elements_by_partial_link_text('область'))\n",
    "    regions.extend(driver.find_elements_by_partial_link_text('Республика'))\n",
    "    \n",
    "    if i >= len(regions):\n",
    "        print('End of loop')\n",
    "        break\n",
    "    \n",
    "    region_link = regions[i]\n",
    "    region_name = region_link.text\n",
    "    \n",
    "    print('{:02d}/{}, Processing {}'.format(i+1, len(regions), region_name))\n",
    "    \n",
    "    #######\n",
    "    \n",
    "    region_link.click(); time.sleep(1)\n",
    "    \n",
    "    navigate(); time.sleep(1)\n",
    "    \n",
    "    boxes_check(); time.sleep(1)\n",
    "    \n",
    "    download(); time.sleep(1)\n",
    "    \n",
    "    # wait for file to download\n",
    "    while 'Report.xls' not in os.listdir('C:/Users/Gregory/Downloads/'):\n",
    "        time.sleep(0.5)\n",
    "        \n",
    "    time.sleep(1)\n",
    "    \n",
    "    # move file to project directory\n",
    "    os.rename('C:/Users/Gregory/Downloads/Report.xls', './xlsx/{}.xls'.format(region_name))\n",
    "    \n",
    "    i += 1"
   ]
  },
  {
   "cell_type": "code",
   "execution_count": null,
   "metadata": {},
   "outputs": [],
   "source": [
    "# республика дагестан лежит №51"
   ]
  }
 ],
 "metadata": {
  "kernelspec": {
   "display_name": "Python 3.6.5 64-bit ('base': conda)",
   "language": "python",
   "name": "python36564bitbaseconda4db4657131b6427e8cce7e3834bee618"
  },
  "language_info": {
   "codemirror_mode": {
    "name": "ipython",
    "version": 3
   },
   "file_extension": ".py",
   "mimetype": "text/x-python",
   "name": "python",
   "nbconvert_exporter": "python",
   "pygments_lexer": "ipython3",
   "version": "3.6.5"
  }
 },
 "nbformat": 4,
 "nbformat_minor": 2
}
